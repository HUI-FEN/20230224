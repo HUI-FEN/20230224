{
 "cells": [
  {
   "cell_type": "code",
   "execution_count": null,
   "metadata": {},
   "outputs": [],
   "source": [
    "import numpy as np\n",
    "import pandas as pd\n",
    "from pandas import Series\n",
    "\n",
    "subjects = ['國文', '英文', '數學', '地理', '歷史']\n",
    "\n",
    "def countFails(s:Series):\n",
    "    failSubjects = s[s < 60]\n",
    "    count = failSubjects.count()\n",
    "    \n",
    "    return count\n",
    "\n",
    "def main():\n",
    "    scores = np.random.randint(50, 101, size=(50, 5))\n",
    "    scores_df = pd.DataFrame(scores, columns=subjects, index=range(1, 51))\n",
    "\n",
    "    scores_sum = scores_df.sum(axis=1)\n",
    "    scores_average = scores_df.mean(axis=1)\n",
    "\n",
    "    scores_df['總分'] = scores_sum\n",
    "    scores_df['平均'] = scores_average\n",
    "\n",
    "    scores_df['不及格的科目數'] = scores_df[subjects].apply(countFails, axis=1)\n",
    "\n",
    "    display(scores_df)\n",
    "\n",
    "main()"
   ]
  }
 ],
 "metadata": {
  "kernelspec": {
   "display_name": "Python 3",
   "language": "python",
   "name": "python3"
  },
  "language_info": {
   "codemirror_mode": {
    "name": "ipython",
    "version": 3
   },
   "file_extension": ".py",
   "mimetype": "text/x-python",
   "name": "python",
   "nbconvert_exporter": "python",
   "pygments_lexer": "ipython3",
   "version": "3.10.12"
  }
 },
 "nbformat": 4,
 "nbformat_minor": 2
}
