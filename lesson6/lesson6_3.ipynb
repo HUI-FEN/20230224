{
 "cells": [
  {
   "cell_type": "code",
   "execution_count": 1,
   "metadata": {},
   "outputs": [
    {
     "name": "stdout",
     "output_type": "stream",
     "text": [
      "========猜數字遊戲=========\n",
      "\n",
      "38\n",
      "猜數字範圍1~100:5\n",
      "再大一點\n",
      "您已經猜了1次\n",
      "猜數字範圍6~100:6\n",
      "再大一點\n",
      "您已經猜了2次\n",
      "猜數字範圍7~100:25\n",
      "再大一點\n",
      "您已經猜了3次\n",
      "猜數字範圍26~100:55\n",
      "再小一點\n",
      "您已經猜了4次\n",
      "猜數字範圍26~54:38\n",
      "賓果!猜對了, 答案是:38\n",
      "您猜了5次\n",
      "遊戲結束!\n"
     ]
    }
   ],
   "source": [
    "import random\n",
    "import pyinputplus as pyip\n",
    "min = 1\n",
    "max = 100\n",
    "count = 0\n",
    "target = random.randint(min,max)\n",
    "print(\"========猜數字遊戲=========\\n\")\n",
    "print(target)\n",
    "while(True):\n",
    "    keyin = pyip.inputInt(f\"猜數字範圍{min}~{max}:\",min=min,max=max)\n",
    "    print(keyin)\n",
    "    count += 1\n",
    "    if keyin == target:\n",
    "        print(f'賓果!猜對了, 答案是:{target}')\n",
    "        print(f'您猜了{count}次')\n",
    "        break\n",
    "    elif (keyin > target):\n",
    "        print(\"再小一點\")\n",
    "        max = keyin - 1\n",
    "    elif (keyin < target):\n",
    "        print(\"再大一點\")\n",
    "        min = keyin + 1\n",
    "    print(f\"您已經猜了{count}次\")\n",
    "        \n",
    "print(\"遊戲結束!\")   "
   ]
  },
  {
   "cell_type": "code",
   "execution_count": 1,
   "metadata": {},
   "outputs": [
    {
     "name": "stdout",
     "output_type": "stream",
     "text": [
      "========猜數字遊戲=========\n",
      "\n",
      "1\n",
      "猜數字範圍1~100:5\n",
      "猜數字範圍1~100:1\n",
      "賓果!猜對了, 答案是:1\n",
      "您猜了2次\n",
      "遊戲結束!\n"
     ]
    }
   ],
   "source": [
    "import random\n",
    "import pyinputplus as pyip\n",
    "min = 1\n",
    "max = 100\n",
    "count = 0\n",
    "target = random.randint(min,max)\n",
    "print(\"========猜數字遊戲=========\\n\")\n",
    "print(target)\n",
    "while(True):\n",
    "    keyin = pyip.inputInt(f\"猜數字範圍{min}~{max}:\",min=min,max=max)\n",
    "    print(keyin)\n",
    "    count += 1\n",
    "    if keyin == target:\n",
    "        print(f'賓果!猜對了, 答案是:{target}')\n",
    "        print(f'您猜了{count}次')\n",
    "        break\n",
    "print(\"遊戲結束!\")   "
   ]
  },
  {
   "cell_type": "code",
   "execution_count": 35,
   "metadata": {},
   "outputs": [
    {
     "name": "stdout",
     "output_type": "stream",
     "text": [
      "請輸入體重請輸入身高BMI24.22\n",
      "重度肥胖\n"
     ]
    }
   ],
   "source": [
    "import pyinputplus as pyip\n",
    "BW =pyip.inputFloat(\"請輸入體重\")\n",
    "BH =pyip.inputFloat(\"請輸入身高\")\n",
    "BMI =BW/((BH/100)**2)\n",
    "print(f\"BMI{bmi:.2f}\")\n",
    "if BMI <18.5:\n",
    "    print(\"體重過輕\")\n",
    "elif BMI <24:\n",
    "    print(\"正常範圍\")\n",
    "elif BMI <27:\n",
    "    print(\"過重\")\n",
    "elif BMI <30:\n",
    "    print(\"輕度肥胖\")\n",
    "elif BMI <33:\n",
    "    print(\"中度肥胖\")\n",
    "else:\n",
    "    print('重度肥胖')"
   ]
  },
  {
   "cell_type": "code",
   "execution_count": 25,
   "metadata": {},
   "outputs": [
    {
     "name": "stdout",
     "output_type": "stream",
     "text": [
      "身高cm體重kg您的BMI是24.221\n",
      "您的體重:過重\n"
     ]
    }
   ],
   "source": [
    "import pyinputplus as pyip\n",
    "\n",
    "high=pyip.inputFloat(\"身高cm\")/100\n",
    "weight=pyip.inputFloat(\"體重kg\")\n",
    "\n",
    "bmi=weight/(high**2)\n",
    "print(f\"您的BMI是{bmi:.3f}\")\n",
    "print(\"您的體重:\",end='')\n",
    "if bmi<18.5:\n",
    "    print(\"體重過輕\")\n",
    "elif bmi<24:\n",
    "    print(\"正常範圍\")\n",
    "elif bmi<27 :\n",
    "    print(\"過重\")\n",
    "elif bmi<30 :\n",
    "    print(\"輕度肥胖\")\n",
    "elif bmi<35 :\n",
    "    print(\"中度肥胖\")\n",
    "else :\n",
    "    print(\"重度肥胖\")\n"
   ]
  }
 ],
 "metadata": {
  "kernelspec": {
   "display_name": "Python 3",
   "language": "python",
   "name": "python3"
  },
  "language_info": {
   "codemirror_mode": {
    "name": "ipython",
    "version": 3
   },
   "file_extension": ".py",
   "mimetype": "text/x-python",
   "name": "python",
   "nbconvert_exporter": "python",
   "pygments_lexer": "ipython3",
   "version": "3.10.12"
  }
 },
 "nbformat": 4,
 "nbformat_minor": 2
}
