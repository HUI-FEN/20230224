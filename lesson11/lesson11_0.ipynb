{
 "cells": [
  {
   "cell_type": "code",
   "execution_count": 2,
   "metadata": {},
   "outputs": [
    {
     "name": "stdout",
     "output_type": "stream",
     "text": [
      "請輸入指定人數(1~50):[{'height': 163, 'name': '陳倩妮', 'weight': 55},\n",
      " {'height': 167, 'name': '郭淑真', 'weight': 90},\n",
      " {'height': 181, 'name': '李政成', 'weight': 86},\n",
      " {'height': 219, 'name': '郭舜昇', 'weight': 47},\n",
      " {'height': 188, 'name': '陳美惠', 'weight': 64}]\n"
     ]
    }
   ],
   "source": [
    "import random\n",
    "import pyinputplus as pyip\n",
    "from pprint import pprint\n",
    "\n",
    "def getNames(num:int) -> list[str]:\n",
    "    with open('names.txt', encoding='utf-8') as file:\n",
    "        rawData:str = file.read()\n",
    "        names:list[str] = rawData.split('\\n')\n",
    "        random_names:list[str] = random.choices(names, k=num)\n",
    "\n",
    "        return random_names\n",
    "\n",
    "############################\n",
    "\n",
    "def generateData(names:list[str]) -> list[dict[str:any]]:\n",
    "    items:list[dict] = []\n",
    "\n",
    "    for name in names:\n",
    "        newItem:dict[str:any] = {\n",
    "            'name': name,\n",
    "            'height': random.randint(150, 220),\n",
    "            'weight': random.randint(40, 90)\n",
    "        }\n",
    "\n",
    "        items.append(newItem)\n",
    "\n",
    "    return items\n",
    "\n",
    "############################\n",
    "\n",
    "def main():\n",
    "    num:int = pyip.inputInt('請輸入指定人數(1~50):', min=1, max=50)\n",
    "    names:list[str] = getNames(num)\n",
    "    items:list[dict[str:any]] = generateData(names)\n",
    "\n",
    "    pprint(items, sort_dicts=True)\n",
    "\n",
    "main()"
   ]
  },
  {
   "cell_type": "code",
   "execution_count": 3,
   "metadata": {},
   "outputs": [
    {
     "name": "stdout",
     "output_type": "stream",
     "text": [
      "請輸入指定人數(1~50):[{'height': 186, 'name': '賴又琦', 'weight': 70},\n",
      " {'height': 169, 'name': '錢佩豪', 'weight': 66},\n",
      " {'height': 209, 'name': '王惠皓', 'weight': 47},\n",
      " {'height': 161, 'name': '王雅慧', 'weight': 90},\n",
      " {'height': 211, 'name': '李進慧', 'weight': 84}]\n"
     ]
    }
   ],
   "source": [
    "num:int = pyip.inputInt('請輸入指定人數(1~50):', min=1, max=50)\n",
    "names:list[str] = getNames(num)\n",
    "items:list[dict[str:any]] = generateData(names)\n",
    "\n",
    "pprint(items, sort_dicts=True)"
   ]
  },
  {
   "cell_type": "code",
   "execution_count": 4,
   "metadata": {},
   "outputs": [
    {
     "name": "stdout",
     "output_type": "stream",
     "text": [
      "請輸入指定人數(1~50):儲檔完成\n"
     ]
    }
   ],
   "source": [
    "import csv\n",
    "from csv import DictWriter\n",
    "num:int = pyip.inputInt('請輸入指定人數(1~50):', min=1, max=50)\n",
    "names:list[str] = getNames(num)\n",
    "items:list[dict[str:any]] = generateData(names)\n",
    "with open('students.csv',mode='w',encoding='utf-8',newline='') as csv_file:\n",
    "    writer:DictWriter = csv.DictWriter(csv_file,['name','height','weight'])\n",
    "    writer.writeheader()\n",
    "    writer.writerows(items)\n",
    "print(\"儲檔完成\")"
   ]
  }
 ],
 "metadata": {
  "kernelspec": {
   "display_name": "Python 3",
   "language": "python",
   "name": "python3"
  },
  "language_info": {
   "codemirror_mode": {
    "name": "ipython",
    "version": 3
   },
   "file_extension": ".py",
   "mimetype": "text/x-python",
   "name": "python",
   "nbconvert_exporter": "python",
   "pygments_lexer": "ipython3",
   "version": "3.10.12"
  }
 },
 "nbformat": 4,
 "nbformat_minor": 2
}
