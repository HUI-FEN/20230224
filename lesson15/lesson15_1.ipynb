{
 "cells": [
  {
   "cell_type": "code",
   "execution_count": null,
   "metadata": {},
   "outputs": [],
   "source": [
    "import matplotlib.pyplot as plt\n",
    "import numpy as np\n",
    "from matplotlib.font_manager import FontProperties\n",
    "font = FontProperties(fname='/usr/share/fonts/truetype/wqy/wqy-zenhei.ttc',size=8)\n",
    "\n",
    "index = np.array([3, 4, 5, 6, 7])\n",
    "subject = ['apple', 'banana', 'orange', 'tomato', 'guava']\n",
    "values1 = [5000, 6000, 7000, 8000, 9000]\n",
    "values2 = [3000, 4000, 5000, 6000, 7000]\n",
    "values3 = [4000, 5000, 6000, 7000, 8000]\n",
    "bin_width = 0.3\n",
    "\n",
    "figure, axes = plt.subplots()\n",
    "barContainer1 = axes.bar(index,values1,width=bin_width,color='red',label='value1')\n",
    "barContainer2 = axes.bar(index+bin_width,values2,width=bin_width,color='blue',label='value2')\n",
    "barContainer3 = axes.bar(index-bin_width,values3,width=bin_width,color='green',label='value3')\n",
    "axes.set_xticks(index,labels=subject)\n",
    "for index,rectangle in enumerate(barContainer1.patches):\n",
    "    print(index,rectangle,type(rectangle))\n",
    "    x = rectangle.get_x()\n",
    "    y = rectangle.get_y()\n",
    "    width = rectangle.get_width()\n",
    "    height = rectangle.get_height()\n",
    "    axes.annotate(str(values1[index]),xy=(x,height+30),fontproperties=font)\n",
    "\n",
    "for index,rectangle in enumerate(barContainer2.patches):\n",
    "    x = rectangle.get_x()\n",
    "    y = rectangle.get_y()\n",
    "    width = rectangle.get_width()\n",
    "    height = rectangle.get_height()\n",
    "    axes.annotate(str(values2[index]),xy=(x,height+30),fontproperties=font)\n",
    "\n",
    "for index,rectangle in enumerate(barContainer3.patches):\n",
    "    x = rectangle.get_x()\n",
    "    y = rectangle.get_y()\n",
    "    width = rectangle.get_width()\n",
    "    height = rectangle.get_height()\n",
    "    axes.annotate(str(values3[index]),xy=(x,height+30),fontproperties=font)\n",
    "\n",
    "\n",
    "xmin, xmax, ymin, ymax = axes.axis()\n",
    "xmin -= 0.2\n",
    "xmax += 0.2\n",
    "ymin += 1000\n",
    "ymax += 1000\n",
    "axes.axis([xmin, xmax, ymin, ymax])\n",
    "axes.legend(loc='upper center',ncols=3)\n",
    "plt.show()"
   ]
  }
 ],
 "metadata": {
  "kernelspec": {
   "display_name": "Python 3",
   "language": "python",
   "name": "python3"
  },
  "language_info": {
   "name": "python",
   "version": "3.10.12"
  }
 },
 "nbformat": 4,
 "nbformat_minor": 2
}
