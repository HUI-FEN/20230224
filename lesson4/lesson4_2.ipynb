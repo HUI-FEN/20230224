{
 "cells": [
  {
   "cell_type": "code",
   "execution_count": 1,
   "metadata": {},
   "outputs": [
    {
     "name": "stdout",
     "output_type": "stream",
     "text": [
      "不及格\n",
      "程式結束\n"
     ]
    }
   ],
   "source": [
    "score = int(input(\"請輸入學生分數:\"))\n",
    "\n",
    "#雙項選擇\n",
    "if score >= 60:\n",
    "    print(\"及格\")\n",
    "else:\n",
    "    print(\"不及格\")\n",
    "\n",
    "print(\"程式結束\")"
   ]
  },
  {
   "cell_type": "code",
   "execution_count": 2,
   "metadata": {},
   "outputs": [
    {
     "name": "stdout",
     "output_type": "stream",
     "text": [
      "學生總分為262\n"
     ]
    }
   ],
   "source": [
    "#學生總分為300\n",
    "#有些學生可以加分5%\n",
    "#如果加分超過300,就以300分為準\n",
    "scores = int(input(\"請輸入學生分數(最高300分):\"))\n",
    "is_add = input(\"學生是否符合加分條件?(y,n)\")\n",
    "\n",
    "if is_add == \"y\":\n",
    "    scores *= 1.05\n",
    "    if scores > 300:\n",
    "        scores = 300\n",
    "\n",
    "print(f'學生總分為{round(scores)}')\n"
   ]
  },
  {
   "cell_type": "code",
   "execution_count": 3,
   "metadata": {},
   "outputs": [
    {
     "name": "stdout",
     "output_type": "stream",
     "text": [
      "學生總分為300\n"
     ]
    }
   ],
   "source": [
    "#學生總分為300\n",
    "#有些學生可以加分5%\n",
    "#如果加分超過300,就以300分為準\n",
    "#檢查學生輸入有沒有超過300分,超過請顯示提示\n",
    "\n",
    "scores = int(input(\"請輸入學生分數(最高300分):\"))\n",
    "if scores <= 300:\n",
    "    is_add = input(\"學生是否符合加分條件?(y,n)\")\n",
    "\n",
    "    if is_add == \"y\":\n",
    "        scores *= 1.05\n",
    "        if scores > 300:\n",
    "            scores = 300\n",
    "\n",
    "    print(f'學生總分為{round(scores)}')\n",
    "else:\n",
    "    print('輸入超出範圍')"
   ]
  },
  {
   "cell_type": "code",
   "execution_count": 5,
   "metadata": {},
   "outputs": [
    {
     "name": "stdout",
     "output_type": "stream",
     "text": [
      "輸入不在範圍內\n"
     ]
    }
   ],
   "source": [
    "#學生總分為300\n",
    "#有些學生可以加分5%\n",
    "#如果加分超過300,就以300分為準\n",
    "#檢查學生輸入有沒有超過300分,超過請顯示提示\n",
    "#檢查學生輸入是否小於0分,超過請顯示提示\n",
    "\n",
    "scores = int(input(\"請輸入學生分數(最高300分):\"))\n",
    "if scores <= 300 and scores >= 0:    \n",
    "    is_add = input(\"學生是否符合加分條件?(y,n)\")\n",
    "\n",
    "    if is_add == \"y\":\n",
    "        scores *= 1.05\n",
    "        if scores > 300:\n",
    "            scores = 300\n",
    "\n",
    "    print(f'學生總分為{round(scores)}')\n",
    "    \n",
    "else:\n",
    "    print('輸入不在範圍內')"
   ]
  },
  {
   "cell_type": "code",
   "execution_count": 6,
   "metadata": {},
   "outputs": [
    {
     "name": "stdout",
     "output_type": "stream",
     "text": [
      "輸入不在範圍內\n"
     ]
    }
   ],
   "source": [
    "#學生總分為300\n",
    "#有些學生可以加分5%\n",
    "#如果加分超過300,就以300分為準\n",
    "#檢查學生輸入有沒有超過300分,超過請顯示提示\n",
    "#檢查學生輸入是否小於0分,超過請顯示提示\n",
    "#檢查使用者輸入的格式是否有錯\n",
    "try:\n",
    "    scores = int(input(\"請輸入學生分數(最高300分):\"))\n",
    "    if scores <= 300 and scores >= 0:    \n",
    "        is_add = input(\"學生是否符合加分條件?(y,n)\")\n",
    "\n",
    "        if is_add == \"y\":\n",
    "            scores *= 1.05\n",
    "            if scores > 300:\n",
    "                scores = 300\n",
    "\n",
    "        print(f'學生總分為{round(scores)}')\n",
    "        \n",
    "    else:\n",
    "        print('輸入不在範圍內')\n",
    "except:\n",
    "    print(\"輸入格式有誤\")"
   ]
  },
  {
   "cell_type": "code",
   "execution_count": 7,
   "metadata": {},
   "outputs": [
    {
     "name": "stdout",
     "output_type": "stream",
     "text": [
      "輸入格式錯誤\n"
     ]
    }
   ],
   "source": [
    "#解決raise 錯誤的語法\n",
    "#try...except\n",
    "try:\n",
    "    money = eval(input(\"請輸入金額:\"))\n",
    "    print(money)\n",
    "except:\n",
    "    print(\"輸入格式錯誤\")"
   ]
  },
  {
   "cell_type": "code",
   "execution_count": 8,
   "metadata": {},
   "outputs": [
    {
     "name": "stdout",
     "output_type": "stream",
     "text": [
      "30\n",
      "程式沒有錯誤\n"
     ]
    }
   ],
   "source": [
    "#解決raise 錯誤的語法\n",
    "#try...except...else\n",
    "try:\n",
    "    money = eval(input(\"請輸入金額:\"))\n",
    "    print(money)\n",
    "except:\n",
    "    print(\"輸入格式錯誤\")\n",
    "else:\n",
    "    print(\"程式沒有錯誤\")"
   ]
  },
  {
   "cell_type": "code",
   "execution_count": 9,
   "metadata": {},
   "outputs": [
    {
     "name": "stdout",
     "output_type": "stream",
     "text": [
      "6j\n",
      "程式沒有錯誤\n"
     ]
    }
   ],
   "source": [
    "#解決raise 錯誤的語法\n",
    "#try...except...else\n",
    "try:\n",
    "    money = eval(input(\"請輸入金額:\"))\n",
    "    print(money)\n",
    "except:\n",
    "    print(\"輸入格式錯誤\")\n",
    "else:\n",
    "    print(\"程式沒有錯誤\")"
   ]
  },
  {
   "cell_type": "code",
   "execution_count": 10,
   "metadata": {},
   "outputs": [
    {
     "name": "stdout",
     "output_type": "stream",
     "text": [
      "小於60\n"
     ]
    }
   ],
   "source": [
    "value = eval(input('請輸入一個數值:'))\n",
    "if value < 60:\n",
    "    print('小於60')\n",
    "elif value >=60 and value < 80:\n",
    "    print(\"在60和80之間\")\n",
    "elif value >=80 and value < 90:\n",
    "    print(\"在80和90之間\")\n",
    "else:\n",
    "    print(\"大於等於90\")"
   ]
  },
  {
   "cell_type": "code",
   "execution_count": 8,
   "metadata": {},
   "outputs": [
    {
     "name": "stdout",
     "output_type": "stream",
     "text": [
      "您的BMI是22.22\n",
      "正常範圍\n"
     ]
    }
   ],
   "source": [
    "try:\n",
    "    BW =eval(input('請輸入體重公斤:'))\n",
    "    BH =eval(input('請輸入身高公分:'))\n",
    "    BMI=BW/((BH/100)**2)\n",
    "    print(f\"您的BMI是{BMI:.2f}\")\n",
    "    if BMI <18.5:\n",
    "            print(\"體重過輕\")\n",
    "    elif BMI >=18.5 and BMI <24:\n",
    "            print(\"正常範圍\")\n",
    "    elif BMI >=24 and BMI <27:\n",
    "            print(\"過重\")\n",
    "    elif BMI >=27 and BMI <30:\n",
    "            print(\"輕度肥胖\")\n",
    "    elif BMI >=30 and BMI <35:\n",
    "            print(\"中度肥胖\")\n",
    "    elif BMI >35:\n",
    "            print(\"重度肥胖\")\n",
    "except:\n",
    "    print(\"輸入格式錯物\")"
   ]
  },
  {
   "cell_type": "code",
   "execution_count": null,
   "metadata": {},
   "outputs": [],
   "source": [
    "try:\n",
    "    height = eval(input(\"請輸入身高\"))\n",
    "    weight = eval(input(\"請輸入體重\"))\n",
    "    # BMI = 體重(公斤) / 身高2(公尺2)\n",
    "    bmi = weight / (height ** 2)\n",
    "    print(f'身高(公尺):{height:.2f},體重(公斤):{weight:.2f},BMI:{bmi:.2f}')\n",
    "    if bmi < 18.5:\n",
    "        print(\"體重過輕\")\n",
    "    elif bmi >= 18.5 and bmi < 24:\n",
    "        print(\"體重正常\")\n",
    "    elif bmi >= 24 and bmi < 27:\n",
    "        print(\"體重過重\")\n",
    "    elif bmi >= 27 and bmi < 30:\n",
    "        print(\"輕度肥胖\")\n",
    "    elif bmi >= 30 and bmi < 35:\n",
    "        print(\"中度肥胖\")\n",
    "    else:\n",
    "        print(\"重度肥胖\")\n",
    "except:\n",
    "    print(\"格式錯誤\")``"
   ]
  }
 ],
 "metadata": {
  "kernelspec": {
   "display_name": "Python 3",
   "language": "python",
   "name": "python3"
  },
  "language_info": {
   "codemirror_mode": {
    "name": "ipython",
    "version": 3
   },
   "file_extension": ".py",
   "mimetype": "text/x-python",
   "name": "python",
   "nbconvert_exporter": "python",
   "pygments_lexer": "ipython3",
   "version": "3.10.12"
  }
 },
 "nbformat": 4,
 "nbformat_minor": 2
}
