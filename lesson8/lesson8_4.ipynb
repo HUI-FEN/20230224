{
 "cells": [
  {
   "cell_type": "code",
   "execution_count": 13,
   "metadata": {},
   "outputs": [
    {
     "ename": "SyntaxError",
     "evalue": "invalid syntax (1820657675.py, line 1)",
     "output_type": "error",
     "traceback": [
      "\u001b[0;36m  Cell \u001b[0;32mIn[13], line 1\u001b[0;36m\u001b[0m\n\u001b[0;31m    [key:value,key:value,key:value]:\u001b[0m\n\u001b[0m        ^\u001b[0m\n\u001b[0;31mSyntaxError\u001b[0m\u001b[0;31m:\u001b[0m invalid syntax\n"
     ]
    }
   ],
   "source": [
    "[key:value,key:value,key:value]:"
   ]
  },
  {
   "cell_type": "code",
   "execution_count": 1,
   "metadata": {},
   "outputs": [
    {
     "data": {
      "text/plain": [
       "[80, 90, 100]"
      ]
     },
     "execution_count": 1,
     "metadata": {},
     "output_type": "execute_result"
    }
   ],
   "source": [
    "#list\n",
    "[80, 90, 100]"
   ]
  },
  {
   "cell_type": "code",
   "execution_count": 9,
   "metadata": {},
   "outputs": [
    {
     "data": {
      "text/plain": [
       "{'國文': 80, '英文': 90, '數學': 100}"
      ]
     },
     "execution_count": 9,
     "metadata": {},
     "output_type": "execute_result"
    }
   ],
   "source": [
    "#dict\n",
    "\n",
    "scores = {'國文':80,'英文':90,'數學':100}\n",
    "scores"
   ]
  },
  {
   "cell_type": "code",
   "execution_count": 3,
   "metadata": {},
   "outputs": [
    {
     "data": {
      "text/plain": [
       "{'國文': 80, '英文': 90, '數學': 100}"
      ]
     },
     "execution_count": 3,
     "metadata": {},
     "output_type": "execute_result"
    }
   ],
   "source": [
    "#dict\n",
    "\n",
    "scores:dict[str,int] = {'國文':80,'英文':90,'數學':100}\n",
    "scores"
   ]
  },
  {
   "cell_type": "code",
   "execution_count": 2,
   "metadata": {},
   "outputs": [
    {
     "data": {
      "text/plain": [
       "{'國文': 80, '英文': 90, '數學': 100}"
      ]
     },
     "execution_count": 2,
     "metadata": {},
     "output_type": "execute_result"
    }
   ],
   "source": [
    "#dict\n",
    "\n",
    "scores:dict[str,int] = {'國文':80,\n",
    "          '英文':90,\n",
    "          '數學':100}\n",
    "scores"
   ]
  },
  {
   "cell_type": "code",
   "execution_count": 4,
   "metadata": {},
   "outputs": [
    {
     "data": {
      "text/plain": [
       "(80, 90, 100)"
      ]
     },
     "execution_count": 4,
     "metadata": {},
     "output_type": "execute_result"
    }
   ],
   "source": [
    "#取出值,subscript\n",
    "scores['國文'], scores['英文'], scores['數學']"
   ]
  },
  {
   "cell_type": "code",
   "execution_count": 8,
   "metadata": {},
   "outputs": [
    {
     "name": "stdout",
     "output_type": "stream",
     "text": [
      "國文\n",
      "英文\n",
      "數學\n"
     ]
    }
   ],
   "source": [
    "for key in scores:\n",
    "    print(key)"
   ]
  },
  {
   "cell_type": "code",
   "execution_count": 5,
   "metadata": {},
   "outputs": [
    {
     "name": "stdout",
     "output_type": "stream",
     "text": [
      "80\n",
      "90\n",
      "100\n"
     ]
    }
   ],
   "source": [
    "for key in scores:\n",
    "    print(scores[key])"
   ]
  },
  {
   "cell_type": "code",
   "execution_count": 22,
   "metadata": {},
   "outputs": [
    {
     "data": {
      "text/plain": [
       "{'國文': 55, '英文': 50, '數學': 98}"
      ]
     },
     "execution_count": 22,
     "metadata": {},
     "output_type": "execute_result"
    }
   ],
   "source": [
    "#建立空的dictionary\n",
    "import random \n",
    "scores:dict[str:int] = {}\n",
    "for item in ['國文','英文','數學']:\n",
    "    scores[item] = random.randint(50,100)\n",
    "scores"
   ]
  },
  {
   "cell_type": "code",
   "execution_count": 23,
   "metadata": {},
   "outputs": [
    {
     "data": {
      "text/plain": [
       "{'國文': 63, '英文': 64, '數學': 81}"
      ]
     },
     "execution_count": 23,
     "metadata": {},
     "output_type": "execute_result"
    }
   ],
   "source": [
    "#dict的comprehension {for in}\n",
    "scores:dict[str:int] = {item:random.randint(50,100) for item in['國文','英文','數學']}\n",
    "scores"
   ]
  },
  {
   "cell_type": "code",
   "execution_count": 24,
   "metadata": {},
   "outputs": [
    {
     "data": {
      "text/plain": [
       "[{'name': '徐xx', 'height': 178, 'weight': 78},\n",
       " {'name': '王xx', 'height': 168, 'weight': 75},\n",
       " {'name': '張xx', 'height': 183, 'weight': 78}]"
      ]
     },
     "execution_count": 24,
     "metadata": {},
     "output_type": "execute_result"
    }
   ],
   "source": [
    "#2維資料\n",
    "names:list[dict] = [\n",
    "    {'name':'徐xx','height':178,'weight':78},\n",
    "    {'name':'王xx','height':168,'weight':75},\n",
    "    {'name':'張xx','height':183,'weight':78},\n",
    "]\n",
    "names"
   ]
  },
  {
   "cell_type": "code",
   "execution_count": 25,
   "metadata": {},
   "outputs": [
    {
     "name": "stdout",
     "output_type": "stream",
     "text": [
      "徐xx\n",
      "178\n",
      "78\n",
      "========\n",
      "王xx\n",
      "168\n",
      "75\n",
      "========\n",
      "張xx\n",
      "183\n",
      "78\n",
      "========\n"
     ]
    }
   ],
   "source": [
    "for people in names:\n",
    "    print(people['name'])\n",
    "    print(people['height'])\n",
    "    print(people['weight'])\n",
    "    print(\"========\")"
   ]
  },
  {
   "cell_type": "code",
   "execution_count": 27,
   "metadata": {},
   "outputs": [],
   "source": [
    "students:list[dict] = [\n",
    "    {'name':'徐xx','國文':78,'英文':92, '數學':68},\n",
    "    {'name':'王xx','國文':95,'英文':78, '數學':60},\n",
    "    {'name':'張xx','國文':69,'英文':87, '數學':68},    \n",
    "]"
   ]
  },
  {
   "cell_type": "code",
   "execution_count": 28,
   "metadata": {},
   "outputs": [
    {
     "name": "stdout",
     "output_type": "stream",
     "text": [
      "姓名:徐xx\n",
      "總分:238\n",
      "================\n",
      "姓名:王xx\n",
      "總分:233\n",
      "================\n",
      "姓名:張xx\n",
      "總分:224\n",
      "================\n"
     ]
    }
   ],
   "source": [
    "for student in students:\n",
    "    print(f\"姓名:{student['name']}\")\n",
    "    total:int = student['國文'] + student['英文'] + student['數學']\n",
    "    print(f'總分:{total}')\n",
    "    print(\"================\")"
   ]
  },
  {
   "cell_type": "code",
   "execution_count": 83,
   "metadata": {},
   "outputs": [
    {
     "ename": "TypeError",
     "evalue": "'float' object is not callable",
     "output_type": "error",
     "traceback": [
      "\u001b[0;31m---------------------------------------------------------------------------\u001b[0m",
      "\u001b[0;31mTypeError\u001b[0m                                 Traceback (most recent call last)",
      "Cell \u001b[0;32mIn[83], line 14\u001b[0m\n\u001b[1;32m     12\u001b[0m     bmi(\u001b[38;5;124m\"\u001b[39m\u001b[38;5;124m正常範圍\u001b[39m\u001b[38;5;124m\"\u001b[39m)\n\u001b[1;32m     13\u001b[0m \u001b[38;5;28;01melif\u001b[39;00m bmi \u001b[38;5;241m<\u001b[39m \u001b[38;5;241m27\u001b[39m:\n\u001b[0;32m---> 14\u001b[0m     \u001b[43mbmi\u001b[49m\u001b[43m(\u001b[49m\u001b[38;5;124;43m\"\u001b[39;49m\u001b[38;5;124;43m過重\u001b[39;49m\u001b[38;5;124;43m\"\u001b[39;49m\u001b[43m)\u001b[49m\n\u001b[1;32m     15\u001b[0m \u001b[38;5;28;01melif\u001b[39;00m bmi \u001b[38;5;241m<\u001b[39m \u001b[38;5;241m30\u001b[39m:\n\u001b[1;32m     16\u001b[0m     bmi(\u001b[38;5;124m\"\u001b[39m\u001b[38;5;124m輕度肥胖\u001b[39m\u001b[38;5;124m\"\u001b[39m)\n",
      "\u001b[0;31mTypeError\u001b[0m: 'float' object is not callable"
     ]
    }
   ],
   "source": [
    "people:list[dict] = [\n",
    "    {'name':'徐xx','height':178,'weight':78},\n",
    "    {'name':'王xx','height':168,'weight':75},\n",
    "    {'name':'張xx','height':183,'weight':78},\n",
    "]\n",
    "\n",
    "bmi:float = data['weight'] / (data['height'] / 100) ** 2\n",
    "for data in people:  \n",
    "    if bmi < 18.5:\n",
    "        bmi(\"體重過輕\")\n",
    "    elif bmi < 24:\n",
    "        bmi(\"正常範圍\")\n",
    "    elif bmi < 27:\n",
    "        bmi(\"過重\")\n",
    "    elif bmi < 30:\n",
    "        bmi(\"輕度肥胖\")\n",
    "    elif bmi < 35:\n",
    "        bmi(\"中度肥胖\")\n",
    "    else:\n",
    "        bmi(\"重度肥胖\")\n",
    "print(f'姓名:{data[\"name\"]}, BMI:{bmi:.1f}, {bmi}')\n",
    "print(\"============\")"
   ]
  },
  {
   "cell_type": "code",
   "execution_count": 92,
   "metadata": {},
   "outputs": [
    {
     "name": "stdout",
     "output_type": "stream",
     "text": [
      "過重\n",
      "姓名:徐xx, BMI:24.62\n",
      "==========\n",
      "體重過輕\n",
      "姓名:王xx, BMI:15.94\n",
      "==========\n",
      "正常範圍\n",
      "姓名:張xx, BMI:23.29\n",
      "==========\n"
     ]
    }
   ],
   "source": [
    "source:list[dict] = [\n",
    "    {'name':'徐xx','height':178,'weight':78},\n",
    "    {'name':'王xx','height':168,'weight':45},\n",
    "    {'name':'張xx','height':183,'weight':78},\n",
    "]\n",
    "\n",
    "for data in source:\n",
    "    bmi:float = data['weight'] / (data['height'] / 100) ** 2\n",
    "    if bmi<18.5:\n",
    "        print(\"體重過輕\")\n",
    "    elif bmi<24:\n",
    "        print(\"正常範圍\")\n",
    "    elif bmi<27 :\n",
    "        print(\"過重\")\n",
    "    elif bmi<30 :\n",
    "        print(\"輕度肥胖\")\n",
    "    elif bmi<35 :\n",
    "        print(\"中度肥胖\")\n",
    "    else :\n",
    "        print(\"重度肥胖\")\n",
    "    print(f'姓名:{data[\"name\"]}, BMI:{bmi:.2f}')\n",
    "    print(\"==========\")"
   ]
  }
 ],
 "metadata": {
  "kernelspec": {
   "display_name": "Python 3",
   "language": "python",
   "name": "python3"
  },
  "language_info": {
   "codemirror_mode": {
    "name": "ipython",
    "version": 3
   },
   "file_extension": ".py",
   "mimetype": "text/x-python",
   "name": "python",
   "nbconvert_exporter": "python",
   "pygments_lexer": "ipython3",
   "version": "3.10.12"
  }
 },
 "nbformat": 4,
 "nbformat_minor": 2
}
