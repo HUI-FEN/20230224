{
 "cells": [
  {
   "cell_type": "code",
   "execution_count": 1,
   "metadata": {},
   "outputs": [
    {
     "name": "stdout",
     "output_type": "stream",
     "text": [
      "半徑:100.00,圓面積:31415.926\n"
     ]
    }
   ],
   "source": [
    "#計算圓面積\n",
    "radius = eval(input('請輸入半徑:'))\n",
    "pi =3.1415926\n",
    "area =pi *radius **2\n",
    "print(f'半徑:{radius:.2f},圓面積:{area:.3f}')"
   ]
  },
  {
   "cell_type": "code",
   "execution_count": 2,
   "metadata": {},
   "outputs": [
    {
     "name": "stdout",
     "output_type": "stream",
     "text": [
      "半徑:100.00,圓面積:31415.927\n"
     ]
    }
   ],
   "source": [
    "#計算圓面積\n",
    "import math\n",
    "radius = eval(input('請輸入半徑:'))\n",
    "area =math.pi *radius **2\n",
    "print(f'半徑:{radius:.2f},圓面積:{area:.3f}')"
   ]
  },
  {
   "cell_type": "code",
   "execution_count": 6,
   "metadata": {},
   "outputs": [
    {
     "name": "stdout",
     "output_type": "stream",
     "text": [
      "姓名:hhhh,體重:50,身高:200,BMI:12.50\n"
     ]
    }
   ],
   "source": [
    "#BMI計算\n",
    "name = input('請輸入姓名')\n",
    "BH =eval(input('請輸入身高公分'))\n",
    "BW =eval(input('請輸入體重公斤'))\n",
    "BMI = BW/((BH/100)**2)\n",
    "print(f'姓名:{name},體重:{BW},身高:{BH},BMI:{BMI:.2f}')"
   ]
  }
 ],
 "metadata": {
  "kernelspec": {
   "display_name": "Python 3",
   "language": "python",
   "name": "python3"
  },
  "language_info": {
   "codemirror_mode": {
    "name": "ipython",
    "version": 3
   },
   "file_extension": ".py",
   "mimetype": "text/x-python",
   "name": "python",
   "nbconvert_exporter": "python",
   "pygments_lexer": "ipython3",
   "version": "3.10.12"
  }
 },
 "nbformat": 4,
 "nbformat_minor": 2
}
