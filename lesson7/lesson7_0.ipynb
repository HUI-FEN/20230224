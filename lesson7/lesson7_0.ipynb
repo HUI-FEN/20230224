{
 "cells": [
  {
   "cell_type": "code",
   "execution_count": null,
   "metadata": {},
   "outputs": [],
   "source": [
    "import pyinputplus as pyip\n",
    "    \n",
    "height:float = pyip.inputFloat('請輸入身高(公分)\\n', greaterThan=0, max=300)\n",
    "\n",
    "weight:float = pyip.inputFloat('請輸入體重(公斤)\\n', greaterThan=0, max=300)\n",
    "\n",
    "bmi:float = weight / (height / 100) ** 2\n",
    "\n",
    "print(f'您的BMI是: {bmi:.1f}')\n",
    "\n",
    "if bmi < 18.5:\n",
    "    msg = '體重過輕'\n",
    "elif bmi < 24:\n",
    "    msg = '正常範圍'\n",
    "elif bmi < 27:\n",
    "    msg = '過重'\n",
    "elif bmi < 30:\n",
    "    msg = '輕度肥胖'\n",
    "elif bmi < 35:\n",
    "    msg = '中度肥胖'\n",
    "else:\n",
    "    msg = '重度肥胖'\n",
    "\n",
    "print(f'您的體重: {msg}')"
   ]
  },
  {
   "cell_type": "code",
   "execution_count": 2,
   "metadata": {},
   "outputs": [
    {
     "ename": "NameError",
     "evalue": "name 'pyip' is not defined",
     "output_type": "error",
     "traceback": [
      "\u001b[0;31m---------------------------------------------------------------------------\u001b[0m",
      "\u001b[0;31mNameError\u001b[0m                                 Traceback (most recent call last)",
      "Cell \u001b[0;32mIn[2], line 1\u001b[0m\n\u001b[0;32m----> 1\u001b[0m help(\u001b[43mpyip\u001b[49m\u001b[38;5;241m.\u001b[39minputFloat)\n",
      "\u001b[0;31mNameError\u001b[0m: name 'pyip' is not defined"
     ]
    }
   ],
   "source": [
    "help(pyip.inputFloat)"
   ]
  },
  {
   "cell_type": "code",
   "execution_count": 3,
   "metadata": {},
   "outputs": [
    {
     "name": "stdout",
     "output_type": "stream",
     "text": [
      "身高:170cm, 體重:70公斤\n",
      "您的BMI是24.22\n",
      "您的體重:過重\n"
     ]
    }
   ],
   "source": [
    "try:\n",
    "    height=eval(input('請輸入身高(公分):'))\n",
    "    try:\n",
    "        weight=eval(input('請輸入體重(公斤):'))\n",
    "        bmi=weight/(height/100)**2\n",
    "        print(f'身高:{height}cm, 體重:{weight}公斤\\n您的BMI是{bmi:.2f}')\n",
    "        if bmi < 18.5:\n",
    "            print('您的體重:過輕')\n",
    "        elif bmi >=18.5 and bmi <24:\n",
    "            print('您的體重:健康正常範圍')\n",
    "        elif bmi >=24 and bmi <27:\n",
    "            print('您的體重:過重')\n",
    "        elif bmi >=27 and bmi <30:\n",
    "            print('您的體重:輕度肥胖')\n",
    "        elif bmi >=30 and bmi <35:\n",
    "            print('您的體重:中度肥胖')\n",
    "        else:\n",
    "            print('您的體重:重度肥胖')\n",
    "    except:\n",
    "        print('體重格式輸入錯誤')\n",
    "except:\n",
    "    print('身高格式輸入有誤')"
   ]
  }
 ],
 "metadata": {
  "kernelspec": {
   "display_name": "Python 3",
   "language": "python",
   "name": "python3"
  },
  "language_info": {
   "codemirror_mode": {
    "name": "ipython",
    "version": 3
   },
   "file_extension": ".py",
   "mimetype": "text/x-python",
   "name": "python",
   "nbconvert_exporter": "python",
   "pygments_lexer": "ipython3",
   "version": "3.10.12"
  }
 },
 "nbformat": 4,
 "nbformat_minor": 2
}
